{
 "cells": [
  {
   "cell_type": "code",
   "execution_count": 34,
   "id": "461c97cc",
   "metadata": {},
   "outputs": [],
   "source": [
    "# 삼성병원"
   ]
  },
  {
   "cell_type": "code",
   "execution_count": 1,
   "id": "33325dda",
   "metadata": {},
   "outputs": [],
   "source": [
    "import pandas as pd\n",
    "import numpy as np\n",
    "import seaborn as sns"
   ]
  },
  {
   "cell_type": "code",
   "execution_count": 2,
   "id": "e69ac5f6",
   "metadata": {},
   "outputs": [],
   "source": [
    "df = pd.read_csv(\"./data/상가(상권)정보_의료기관_201909.csv\", low_memory=False)"
   ]
  },
  {
   "cell_type": "code",
   "execution_count": 3,
   "id": "d617e07f",
   "metadata": {},
   "outputs": [],
   "source": [
    "df_gangnam = df[df[\"시군구명\"] == \"강남구\"].copy()\n",
    "# df_gangnam.head(1)"
   ]
  },
  {
   "cell_type": "code",
   "execution_count": 4,
   "id": "78c12f76",
   "metadata": {},
   "outputs": [],
   "source": [
    "df_medical = df_gangnam[df_gangnam[\"상권업종중분류명\"] == \"병원\"]\n",
    "# df_medical.head(1)"
   ]
  },
  {
   "cell_type": "code",
   "execution_count": 13,
   "id": "167b350b",
   "metadata": {},
   "outputs": [
    {
     "data": {
      "text/plain": [
       "역삼1동    321\n",
       "압구정동    192\n",
       "신사동     130\n",
       "청담동     116\n",
       "논현2동    115\n",
       "논현1동    115\n",
       "대치4동     97\n",
       "대치1동     90\n",
       "대치2동     63\n",
       "도곡1동     60\n",
       "역삼2동     57\n",
       "삼성2동     52\n",
       "삼성1동     45\n",
       "도곡2동     42\n",
       "개포2동     23\n",
       "일원2동     19\n",
       "일원1동     18\n",
       "수서동      17\n",
       "세곡동      17\n",
       "개포4동     16\n",
       "일원본동     15\n",
       "개포1동      3\n",
       "Name: 행정동명, dtype: int64"
      ]
     },
     "execution_count": 13,
     "metadata": {},
     "output_type": "execute_result"
    }
   ],
   "source": [
    "df_medical[\"상권업종소분류명\"].value_counts()\n",
    "\n",
    "# 노인과 관련없는 소아과, 산부인과, 피부과 제외\n",
    "df_medical = df_medical[df_medical[\"상권업종소분류명\"] != \"소아과\"]\n",
    "df_medical = df_medical[df_medical[\"상권업종소분류명\"] != \"산부인과\"]\n",
    "df_medical = df_medical[df_medical[\"상권업종소분류명\"] != \"피부과\"]\n",
    "df_medical = df_medical[df_medical[\"상권업종소분류명\"] != \"정형/성형외과\"]\n",
    "df_medical = df_medical[df_medical[\"상권업종소분류명\"] != \"기타병원\"]\n",
    "\n",
    "\n",
    "# df_medical[\"상권업종소분류명\"].value_counts()\n",
    "df_medical[\"행정동명\"].value_counts()"
   ]
  },
  {
   "cell_type": "code",
   "execution_count": 6,
   "id": "2bbbc0c4",
   "metadata": {},
   "outputs": [],
   "source": [
    "# df_medical.columns\n",
    "df_medical = df_medical.drop(['상가업소번호', '지점명', '상권업종대분류코드','상권업종중분류코드', '상권업종소분류코드', '표준산업분류코드', '표준산업분류명', '시도코드',\n",
    "       '시도명', '시군구코드', '시군구명', '행정동코드', '법정동코드', '법정동명', '지번코드',\n",
    "       '대지구분코드', '대지구분명', '지번본번지', '지번부번지', '지번주소', '도로명코드', '도로명', '건물본번지',\n",
    "       '건물부번지', '건물관리번호', '건물명', '도로명주소', '구우편번호', '신우편번호', '동정보', '층정보',\n",
    "       '호정보'], axis=1)"
   ]
  },
  {
   "cell_type": "code",
   "execution_count": 7,
   "id": "226b91ba",
   "metadata": {},
   "outputs": [
    {
     "data": {
      "text/html": [
       "<div>\n",
       "<style scoped>\n",
       "    .dataframe tbody tr th:only-of-type {\n",
       "        vertical-align: middle;\n",
       "    }\n",
       "\n",
       "    .dataframe tbody tr th {\n",
       "        vertical-align: top;\n",
       "    }\n",
       "\n",
       "    .dataframe thead th {\n",
       "        text-align: right;\n",
       "    }\n",
       "</style>\n",
       "<table border=\"1\" class=\"dataframe\">\n",
       "  <thead>\n",
       "    <tr style=\"text-align: right;\">\n",
       "      <th></th>\n",
       "      <th>상호명</th>\n",
       "      <th>상권업종대분류명</th>\n",
       "      <th>상권업종중분류명</th>\n",
       "      <th>상권업종소분류명</th>\n",
       "      <th>행정동명</th>\n",
       "      <th>경도</th>\n",
       "      <th>위도</th>\n",
       "    </tr>\n",
       "  </thead>\n",
       "  <tbody>\n",
       "    <tr>\n",
       "      <th>1</th>\n",
       "      <td>타워광명내과의원</td>\n",
       "      <td>의료</td>\n",
       "      <td>병원</td>\n",
       "      <td>내과/외과</td>\n",
       "      <td>도곡2동</td>\n",
       "      <td>127.053198</td>\n",
       "      <td>37.488742</td>\n",
       "    </tr>\n",
       "    <tr>\n",
       "      <th>49</th>\n",
       "      <td>오리진</td>\n",
       "      <td>의료</td>\n",
       "      <td>병원</td>\n",
       "      <td>일반병원</td>\n",
       "      <td>신사동</td>\n",
       "      <td>127.026817</td>\n",
       "      <td>37.524434</td>\n",
       "    </tr>\n",
       "    <tr>\n",
       "      <th>144</th>\n",
       "      <td>경희한의원</td>\n",
       "      <td>의료</td>\n",
       "      <td>병원</td>\n",
       "      <td>한의원</td>\n",
       "      <td>역삼1동</td>\n",
       "      <td>127.030202</td>\n",
       "      <td>37.493673</td>\n",
       "    </tr>\n",
       "    <tr>\n",
       "      <th>159</th>\n",
       "      <td>리더스서울외과내과</td>\n",
       "      <td>의료</td>\n",
       "      <td>병원</td>\n",
       "      <td>내과/외과</td>\n",
       "      <td>역삼1동</td>\n",
       "      <td>127.029201</td>\n",
       "      <td>37.495855</td>\n",
       "    </tr>\n",
       "    <tr>\n",
       "      <th>227</th>\n",
       "      <td>바롬치과</td>\n",
       "      <td>의료</td>\n",
       "      <td>병원</td>\n",
       "      <td>치과의원</td>\n",
       "      <td>신사동</td>\n",
       "      <td>127.026869</td>\n",
       "      <td>37.519587</td>\n",
       "    </tr>\n",
       "  </tbody>\n",
       "</table>\n",
       "</div>"
      ],
      "text/plain": [
       "           상호명 상권업종대분류명 상권업종중분류명 상권업종소분류명  행정동명          경도         위도\n",
       "1     타워광명내과의원       의료       병원    내과/외과  도곡2동  127.053198  37.488742\n",
       "49         오리진       의료       병원     일반병원   신사동  127.026817  37.524434\n",
       "144      경희한의원       의료       병원      한의원  역삼1동  127.030202  37.493673\n",
       "159  리더스서울외과내과       의료       병원    내과/외과  역삼1동  127.029201  37.495855\n",
       "227       바롬치과       의료       병원     치과의원   신사동  127.026869  37.519587"
      ]
     },
     "execution_count": 7,
     "metadata": {},
     "output_type": "execute_result"
    }
   ],
   "source": [
    "df_medical.head()"
   ]
  },
  {
   "cell_type": "code",
   "execution_count": 8,
   "id": "c9b120dd",
   "metadata": {},
   "outputs": [],
   "source": [
    "df_medical.to_csv(\"gangnam_hospital.csv\")"
   ]
  },
  {
   "cell_type": "code",
   "execution_count": null,
   "id": "dc4c2748",
   "metadata": {},
   "outputs": [],
   "source": [
    "df_medica"
   ]
  }
 ],
 "metadata": {
  "kernelspec": {
   "display_name": "Python 3",
   "language": "python",
   "name": "python3"
  },
  "language_info": {
   "codemirror_mode": {
    "name": "ipython",
    "version": 3
   },
   "file_extension": ".py",
   "mimetype": "text/x-python",
   "name": "python",
   "nbconvert_exporter": "python",
   "pygments_lexer": "ipython3",
   "version": "3.8.8"
  }
 },
 "nbformat": 4,
 "nbformat_minor": 5
}
