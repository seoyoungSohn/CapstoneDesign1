{
 "cells": [
  {
   "cell_type": "code",
   "execution_count": 1,
   "id": "c5ee441c",
   "metadata": {},
   "outputs": [],
   "source": [
    "import pandas as pd\n",
    "import numpy as np\n",
    "import seaborn as sns"
   ]
  },
  {
   "cell_type": "code",
   "execution_count": 2,
   "id": "8629d0e6",
   "metadata": {},
   "outputs": [],
   "source": [
    "import matplotlib.pyplot as plt\n",
    "plt.rc('axes', unicode_minus=False)\n",
    "plt.rc('font', family='Malgun Gothic')\n",
    "%matplotlib inline"
   ]
  },
  {
   "cell_type": "code",
   "execution_count": 3,
   "id": "51063c71",
   "metadata": {},
   "outputs": [],
   "source": [
    "from IPython.display import set_matplotlib_formats\n",
    "# 폰트가 선명하게 보이기 위해\n",
    "set_matplotlib_formats('retina')"
   ]
  },
  {
   "cell_type": "code",
   "execution_count": 4,
   "id": "bc82a810",
   "metadata": {},
   "outputs": [],
   "source": [
    "df = pd.read_csv(\"./data/상가(상권)정보_의료기관_201909.csv\", low_memory=False)"
   ]
  },
  {
   "cell_type": "code",
   "execution_count": 5,
   "id": "04efc601",
   "metadata": {},
   "outputs": [],
   "source": [
    "df_nowon = df[df[\"시군구명\"] == \"노원구\"].copy()\n",
    "# df_nowon.head(1)"
   ]
  },
  {
   "cell_type": "code",
   "execution_count": 6,
   "id": "e2648dcf",
   "metadata": {},
   "outputs": [],
   "source": [
    "df_medical = df_nowon[df_nowon[\"상권업종중분류명\"] == \"병원\"]\n",
    "# df_medical.head(1)"
   ]
  },
  {
   "cell_type": "code",
   "execution_count": 7,
   "id": "ef8c1d54",
   "metadata": {},
   "outputs": [
    {
     "data": {
      "text/plain": [
       "상계6.7동    80\n",
       "공릉1동      32\n",
       "중계2.3동    32\n",
       "상계2동      29\n",
       "월계1동      23\n",
       "월계3동      23\n",
       "상계1동      23\n",
       "중계4동      20\n",
       "중계본동      17\n",
       "상계8동      17\n",
       "공릉2동      15\n",
       "중계1동      13\n",
       "상계9동      13\n",
       "하계1동      13\n",
       "월계2동      12\n",
       "상계3.4동    11\n",
       "하계2동      10\n",
       "상계5동       7\n",
       "상계10동      5\n",
       "Name: 행정동명, dtype: int64"
      ]
     },
     "execution_count": 7,
     "metadata": {},
     "output_type": "execute_result"
    }
   ],
   "source": [
    "df_medical[\"상권업종소분류명\"].value_counts()\n",
    "\n",
    "# 노인과 관련없는 소아과, 산부인과, 피부과 제외\n",
    "df_medical = df_medical[df_medical[\"상권업종소분류명\"] != \"소아과\"]\n",
    "df_medical = df_medical[df_medical[\"상권업종소분류명\"] != \"산부인과\"]\n",
    "df_medical = df_medical[df_medical[\"상권업종소분류명\"] != \"피부과\"]\n",
    "\n",
    "# 추가적인 전처리를 위해 정형/성형외과, 기타병원 제외\n",
    "df_medical = df_medical[df_medical[\"상권업종소분류명\"] != \"정형/성형외과\"]\n",
    "df_medical = df_medical[df_medical[\"상권업종소분류명\"] != \"기타병원\"]\n",
    "\n",
    "# df_medical[\"상권업종소분류명\"].value_counts()\n",
    "df_medical[\"행정동명\"].value_counts()"
   ]
  },
  {
   "cell_type": "code",
   "execution_count": 8,
   "id": "6caf7cdb",
   "metadata": {},
   "outputs": [],
   "source": [
    "df_some = df_nowon[df_nowon[\"상권업종중분류명\"] == \"병원\"]\n",
    "\n",
    "df_beauty = df_some[df_some[\"상권업종소분류명\"] == \"정형/성형외과\"]\n",
    "df_etc = df_some[df_some[\"상권업종소분류명\"] == \"기타병원\"]"
   ]
  },
  {
   "cell_type": "code",
   "execution_count": 9,
   "id": "8a4b40b9",
   "metadata": {},
   "outputs": [
    {
     "data": {
      "text/plain": [
       "중계본동      2\n",
       "상계6.7동    2\n",
       "중계1동      2\n",
       "공릉1동      1\n",
       "상계2동      1\n",
       "상계1동      1\n",
       "중계2.3동    1\n",
       "중계4동      1\n",
       "Name: 행정동명, dtype: int64"
      ]
     },
     "execution_count": 9,
     "metadata": {},
     "output_type": "execute_result"
    }
   ],
   "source": [
    "# 성형외과 제거\n",
    "df_beauty[\"상호명\"].value_counts()\n",
    "beauty = df_beauty.drop(df_beauty.index[[0, 7, 8, 9, 13, 14]])\n",
    "beauty[\"행정동명\"].value_counts()\n",
    "# beauty[\"상호명\"].value_counts()"
   ]
  },
  {
   "cell_type": "code",
   "execution_count": 10,
   "id": "a4e91921",
   "metadata": {},
   "outputs": [
    {
     "data": {
      "text/plain": [
       "상계6.7동    8\n",
       "상계8동      4\n",
       "공릉1동      3\n",
       "중계2.3동    3\n",
       "상계3.4동    3\n",
       "월계2동      2\n",
       "상계5동      2\n",
       "상계2동      2\n",
       "중계본동      2\n",
       "월계3동      1\n",
       "월계1동      1\n",
       "중계1동      1\n",
       "Name: 행정동명, dtype: int64"
      ]
     },
     "execution_count": 10,
     "metadata": {},
     "output_type": "execute_result"
    }
   ],
   "source": [
    "# 기타병원 중 정신과, 미용치료 병원, 아동 병원 제외\n",
    "df_etc[\"상호명\"].value_counts()\n",
    "etc = df_etc.drop(df_etc.index[[3, 4, 9, 11, 15, 16, 18, 21, 31, 38, 40, 41, 44]])\n",
    "etc[\"행정동명\"].value_counts()\n",
    "\n",
    "# etc[\"상호명\"].value_counts()"
   ]
  },
  {
   "cell_type": "code",
   "execution_count": 11,
   "id": "b1dd8f38",
   "metadata": {},
   "outputs": [
    {
     "data": {
      "text/plain": [
       "상계6.7동    90\n",
       "중계2.3동    36\n",
       "공릉1동      36\n",
       "상계2동      32\n",
       "상계1동      24\n",
       "월계1동      24\n",
       "월계3동      24\n",
       "중계본동      21\n",
       "상계8동      21\n",
       "중계4동      21\n",
       "중계1동      16\n",
       "공릉2동      15\n",
       "상계3.4동    14\n",
       "월계2동      14\n",
       "하계1동      13\n",
       "상계9동      13\n",
       "하계2동      10\n",
       "상계5동       9\n",
       "상계10동      5\n",
       "Name: 행정동명, dtype: int64"
      ]
     },
     "execution_count": 11,
     "metadata": {},
     "output_type": "execute_result"
    }
   ],
   "source": [
    "df_medical = pd.concat([beauty, df_medical])\n",
    "df_medical = pd.concat([etc, df_medical])\n",
    "df_medical.drop_duplicates([\"위도\", \"경도\"])\n",
    "df_medical[\"행정동명\"].value_counts()"
   ]
  },
  {
   "cell_type": "code",
   "execution_count": 12,
   "id": "67bfa2c2",
   "metadata": {},
   "outputs": [],
   "source": [
    "# df_medical.columns\n",
    "df_medical = df_medical.drop(['상가업소번호', '지점명', '상권업종대분류코드','상권업종중분류코드', '상권업종소분류코드', '표준산업분류코드', '표준산업분류명', '시도코드',\n",
    "       '시도명', '시군구코드', '시군구명', '행정동코드', '법정동코드', '법정동명', '지번코드',\n",
    "       '대지구분코드', '대지구분명', '지번본번지', '지번부번지', '지번주소', '도로명코드', '도로명', '건물본번지',\n",
    "       '건물부번지', '건물관리번호', '건물명', '도로명주소', '구우편번호', '신우편번호', '동정보', '층정보',\n",
    "       '호정보'], axis=1)"
   ]
  },
  {
   "cell_type": "code",
   "execution_count": 13,
   "id": "7fe8215f",
   "metadata": {},
   "outputs": [
    {
     "data": {
      "text/html": [
       "<div>\n",
       "<style scoped>\n",
       "    .dataframe tbody tr th:only-of-type {\n",
       "        vertical-align: middle;\n",
       "    }\n",
       "\n",
       "    .dataframe tbody tr th {\n",
       "        vertical-align: top;\n",
       "    }\n",
       "\n",
       "    .dataframe thead th {\n",
       "        text-align: right;\n",
       "    }\n",
       "</style>\n",
       "<table border=\"1\" class=\"dataframe\">\n",
       "  <thead>\n",
       "    <tr style=\"text-align: right;\">\n",
       "      <th></th>\n",
       "      <th>상호명</th>\n",
       "      <th>상권업종대분류명</th>\n",
       "      <th>상권업종중분류명</th>\n",
       "      <th>상권업종소분류명</th>\n",
       "      <th>행정동명</th>\n",
       "      <th>경도</th>\n",
       "      <th>위도</th>\n",
       "    </tr>\n",
       "  </thead>\n",
       "  <tbody>\n",
       "    <tr>\n",
       "      <th>2472</th>\n",
       "      <td>태능마이크로병원1층</td>\n",
       "      <td>의료</td>\n",
       "      <td>병원</td>\n",
       "      <td>기타병원</td>\n",
       "      <td>공릉1동</td>\n",
       "      <td>127.074950</td>\n",
       "      <td>37.618197</td>\n",
       "    </tr>\n",
       "    <tr>\n",
       "      <th>2740</th>\n",
       "      <td>신원진단검사의학과의원</td>\n",
       "      <td>의료</td>\n",
       "      <td>병원</td>\n",
       "      <td>기타병원</td>\n",
       "      <td>상계6.7동</td>\n",
       "      <td>127.062595</td>\n",
       "      <td>37.646797</td>\n",
       "    </tr>\n",
       "    <tr>\n",
       "      <th>3065</th>\n",
       "      <td>실로암의원</td>\n",
       "      <td>의료</td>\n",
       "      <td>병원</td>\n",
       "      <td>기타병원</td>\n",
       "      <td>월계2동</td>\n",
       "      <td>127.056199</td>\n",
       "      <td>37.629302</td>\n",
       "    </tr>\n",
       "    <tr>\n",
       "      <th>14181</th>\n",
       "      <td>조가정의원</td>\n",
       "      <td>의료</td>\n",
       "      <td>병원</td>\n",
       "      <td>기타병원</td>\n",
       "      <td>월계3동</td>\n",
       "      <td>127.065202</td>\n",
       "      <td>37.626815</td>\n",
       "    </tr>\n",
       "    <tr>\n",
       "      <th>14739</th>\n",
       "      <td>노원진단검사과</td>\n",
       "      <td>의료</td>\n",
       "      <td>병원</td>\n",
       "      <td>기타병원</td>\n",
       "      <td>상계6.7동</td>\n",
       "      <td>127.062595</td>\n",
       "      <td>37.646797</td>\n",
       "    </tr>\n",
       "    <tr>\n",
       "      <th>...</th>\n",
       "      <td>...</td>\n",
       "      <td>...</td>\n",
       "      <td>...</td>\n",
       "      <td>...</td>\n",
       "      <td>...</td>\n",
       "      <td>...</td>\n",
       "      <td>...</td>\n",
       "    </tr>\n",
       "    <tr>\n",
       "      <th>90070</th>\n",
       "      <td>세이유외과</td>\n",
       "      <td>의료</td>\n",
       "      <td>병원</td>\n",
       "      <td>내과/외과</td>\n",
       "      <td>상계6.7동</td>\n",
       "      <td>127.060002</td>\n",
       "      <td>37.654760</td>\n",
       "    </tr>\n",
       "    <tr>\n",
       "      <th>90803</th>\n",
       "      <td>경희평온</td>\n",
       "      <td>의료</td>\n",
       "      <td>병원</td>\n",
       "      <td>한의원</td>\n",
       "      <td>상계8동</td>\n",
       "      <td>127.056221</td>\n",
       "      <td>37.666939</td>\n",
       "    </tr>\n",
       "    <tr>\n",
       "      <th>90974</th>\n",
       "      <td>서울열린치과의원</td>\n",
       "      <td>의료</td>\n",
       "      <td>병원</td>\n",
       "      <td>치과의원</td>\n",
       "      <td>상계6.7동</td>\n",
       "      <td>127.061460</td>\n",
       "      <td>37.652366</td>\n",
       "    </tr>\n",
       "    <tr>\n",
       "      <th>91030</th>\n",
       "      <td>마들수내과의원</td>\n",
       "      <td>의료</td>\n",
       "      <td>병원</td>\n",
       "      <td>내과/외과</td>\n",
       "      <td>상계9동</td>\n",
       "      <td>127.065822</td>\n",
       "      <td>37.664204</td>\n",
       "    </tr>\n",
       "    <tr>\n",
       "      <th>91320</th>\n",
       "      <td>월계치과</td>\n",
       "      <td>의료</td>\n",
       "      <td>병원</td>\n",
       "      <td>치과의원</td>\n",
       "      <td>월계1동</td>\n",
       "      <td>127.057988</td>\n",
       "      <td>37.629326</td>\n",
       "    </tr>\n",
       "  </tbody>\n",
       "</table>\n",
       "<p>437 rows × 7 columns</p>\n",
       "</div>"
      ],
      "text/plain": [
       "               상호명 상권업종대분류명 상권업종중분류명 상권업종소분류명    행정동명          경도         위도\n",
       "2472    태능마이크로병원1층       의료       병원     기타병원    공릉1동  127.074950  37.618197\n",
       "2740   신원진단검사의학과의원       의료       병원     기타병원  상계6.7동  127.062595  37.646797\n",
       "3065         실로암의원       의료       병원     기타병원    월계2동  127.056199  37.629302\n",
       "14181        조가정의원       의료       병원     기타병원    월계3동  127.065202  37.626815\n",
       "14739      노원진단검사과       의료       병원     기타병원  상계6.7동  127.062595  37.646797\n",
       "...            ...      ...      ...      ...     ...         ...        ...\n",
       "90070        세이유외과       의료       병원    내과/외과  상계6.7동  127.060002  37.654760\n",
       "90803         경희평온       의료       병원      한의원    상계8동  127.056221  37.666939\n",
       "90974     서울열린치과의원       의료       병원     치과의원  상계6.7동  127.061460  37.652366\n",
       "91030      마들수내과의원       의료       병원    내과/외과    상계9동  127.065822  37.664204\n",
       "91320         월계치과       의료       병원     치과의원    월계1동  127.057988  37.629326\n",
       "\n",
       "[437 rows x 7 columns]"
      ]
     },
     "execution_count": 13,
     "metadata": {},
     "output_type": "execute_result"
    }
   ],
   "source": [
    "df_medical = df_medical.drop(51409)\n",
    "df_medical"
   ]
  },
  {
   "cell_type": "code",
   "execution_count": 14,
   "id": "d16e6891",
   "metadata": {},
   "outputs": [
    {
     "data": {
      "text/html": [
       "<div>\n",
       "<style scoped>\n",
       "    .dataframe tbody tr th:only-of-type {\n",
       "        vertical-align: middle;\n",
       "    }\n",
       "\n",
       "    .dataframe tbody tr th {\n",
       "        vertical-align: top;\n",
       "    }\n",
       "\n",
       "    .dataframe thead th {\n",
       "        text-align: right;\n",
       "    }\n",
       "</style>\n",
       "<table border=\"1\" class=\"dataframe\">\n",
       "  <thead>\n",
       "    <tr style=\"text-align: right;\">\n",
       "      <th></th>\n",
       "      <th>상호명</th>\n",
       "      <th>상권업종대분류명</th>\n",
       "      <th>상권업종중분류명</th>\n",
       "      <th>상권업종소분류명</th>\n",
       "      <th>행정동명</th>\n",
       "      <th>경도</th>\n",
       "      <th>위도</th>\n",
       "    </tr>\n",
       "  </thead>\n",
       "  <tbody>\n",
       "    <tr>\n",
       "      <th>9374</th>\n",
       "      <td>경귀준치과</td>\n",
       "      <td>의료</td>\n",
       "      <td>병원</td>\n",
       "      <td>치과의원</td>\n",
       "      <td>하계2동</td>\n",
       "      <td>127.065646</td>\n",
       "      <td>37.636604</td>\n",
       "    </tr>\n",
       "    <tr>\n",
       "      <th>30988</th>\n",
       "      <td>국군춘천병원치과진료</td>\n",
       "      <td>의료</td>\n",
       "      <td>병원</td>\n",
       "      <td>치과의원</td>\n",
       "      <td>하계2동</td>\n",
       "      <td>127.065646</td>\n",
       "      <td>37.636604</td>\n",
       "    </tr>\n",
       "    <tr>\n",
       "      <th>35418</th>\n",
       "      <td>자양한의원</td>\n",
       "      <td>의료</td>\n",
       "      <td>병원</td>\n",
       "      <td>한의원</td>\n",
       "      <td>하계2동</td>\n",
       "      <td>127.065646</td>\n",
       "      <td>37.636604</td>\n",
       "    </tr>\n",
       "    <tr>\n",
       "      <th>48023</th>\n",
       "      <td>서태헌안과</td>\n",
       "      <td>의료</td>\n",
       "      <td>병원</td>\n",
       "      <td>안과의원</td>\n",
       "      <td>하계2동</td>\n",
       "      <td>127.065679</td>\n",
       "      <td>37.634919</td>\n",
       "    </tr>\n",
       "    <tr>\n",
       "      <th>74783</th>\n",
       "      <td>이지성이비인후과</td>\n",
       "      <td>의료</td>\n",
       "      <td>병원</td>\n",
       "      <td>이비인후과의원</td>\n",
       "      <td>하계2동</td>\n",
       "      <td>127.064525</td>\n",
       "      <td>37.636613</td>\n",
       "    </tr>\n",
       "    <tr>\n",
       "      <th>84887</th>\n",
       "      <td>삼성한의원</td>\n",
       "      <td>의료</td>\n",
       "      <td>병원</td>\n",
       "      <td>한의원</td>\n",
       "      <td>하계2동</td>\n",
       "      <td>127.067254</td>\n",
       "      <td>37.633986</td>\n",
       "    </tr>\n",
       "    <tr>\n",
       "      <th>87020</th>\n",
       "      <td>한치과의원</td>\n",
       "      <td>의료</td>\n",
       "      <td>병원</td>\n",
       "      <td>치과의원</td>\n",
       "      <td>하계2동</td>\n",
       "      <td>127.065646</td>\n",
       "      <td>37.636604</td>\n",
       "    </tr>\n",
       "    <tr>\n",
       "      <th>88369</th>\n",
       "      <td>장생한의원</td>\n",
       "      <td>의료</td>\n",
       "      <td>병원</td>\n",
       "      <td>한의원</td>\n",
       "      <td>하계2동</td>\n",
       "      <td>127.059783</td>\n",
       "      <td>37.637945</td>\n",
       "    </tr>\n",
       "    <tr>\n",
       "      <th>89004</th>\n",
       "      <td>필치과</td>\n",
       "      <td>의료</td>\n",
       "      <td>병원</td>\n",
       "      <td>치과의원</td>\n",
       "      <td>하계2동</td>\n",
       "      <td>127.059783</td>\n",
       "      <td>37.637945</td>\n",
       "    </tr>\n",
       "  </tbody>\n",
       "</table>\n",
       "</div>"
      ],
      "text/plain": [
       "              상호명 상권업종대분류명 상권업종중분류명 상권업종소분류명  행정동명          경도         위도\n",
       "9374        경귀준치과       의료       병원     치과의원  하계2동  127.065646  37.636604\n",
       "30988  국군춘천병원치과진료       의료       병원     치과의원  하계2동  127.065646  37.636604\n",
       "35418       자양한의원       의료       병원      한의원  하계2동  127.065646  37.636604\n",
       "48023       서태헌안과       의료       병원     안과의원  하계2동  127.065679  37.634919\n",
       "74783    이지성이비인후과       의료       병원  이비인후과의원  하계2동  127.064525  37.636613\n",
       "84887       삼성한의원       의료       병원      한의원  하계2동  127.067254  37.633986\n",
       "87020       한치과의원       의료       병원     치과의원  하계2동  127.065646  37.636604\n",
       "88369       장생한의원       의료       병원      한의원  하계2동  127.059783  37.637945\n",
       "89004         필치과       의료       병원     치과의원  하계2동  127.059783  37.637945"
      ]
     },
     "execution_count": 14,
     "metadata": {},
     "output_type": "execute_result"
    }
   ],
   "source": [
    "p = df_medical[df_medical[\"행정동명\"] == \"하계2동\"]\n",
    "p"
   ]
  },
  {
   "cell_type": "code",
   "execution_count": 15,
   "id": "45ebed84",
   "metadata": {},
   "outputs": [
    {
     "data": {
      "text/plain": [
       "상계6.7동    90\n",
       "중계2.3동    36\n",
       "공릉1동      36\n",
       "상계2동      32\n",
       "상계1동      24\n",
       "월계1동      24\n",
       "월계3동      24\n",
       "중계본동      21\n",
       "상계8동      21\n",
       "중계4동      21\n",
       "중계1동      16\n",
       "공릉2동      15\n",
       "상계3.4동    14\n",
       "월계2동      14\n",
       "하계1동      13\n",
       "상계9동      13\n",
       "상계5동       9\n",
       "하계2동       9\n",
       "상계10동      5\n",
       "Name: 행정동명, dtype: int64"
      ]
     },
     "execution_count": 15,
     "metadata": {},
     "output_type": "execute_result"
    }
   ],
   "source": [
    "df_medical[\"행정동명\"].value_counts()"
   ]
  },
  {
   "cell_type": "code",
   "execution_count": 16,
   "id": "7ad436aa",
   "metadata": {},
   "outputs": [],
   "source": [
    "df_medical.to_csv(\"hospital.csv\")"
   ]
  },
  {
   "cell_type": "code",
   "execution_count": 17,
   "id": "573b1e3e",
   "metadata": {},
   "outputs": [
    {
     "data": {
      "text/plain": [
       "<AxesSubplot:xlabel='count', ylabel='행정동명'>"
      ]
     },
     "execution_count": 17,
     "metadata": {},
     "output_type": "execute_result"
    },
    {
     "data": {
      "image/png": "[encoded data removed]",
      "text/plain": [
       "<Figure size 432x288 with 1 Axes>"
      ]
     },
     "metadata": {
      "image/png": {
       "height": 263,
       "width": 413
      },
      "needs_background": "light"
     },
     "output_type": "display_data"
    }
   ],
   "source": [
    "sns.countplot(data=df_medical, y=\"행정동명\")"
   ]
  },
  {
   "cell_type": "code",
   "execution_count": 18,
   "id": "7764cbe0",
   "metadata": {},
   "outputs": [
    {
     "data": {
      "text/html": [
       "<div>\n",
       "<style scoped>\n",
       "    .dataframe tbody tr th:only-of-type {\n",
       "        vertical-align: middle;\n",
       "    }\n",
       "\n",
       "    .dataframe tbody tr th {\n",
       "        vertical-align: top;\n",
       "    }\n",
       "\n",
       "    .dataframe thead th {\n",
       "        text-align: right;\n",
       "    }\n",
       "</style>\n",
       "<table border=\"1\" class=\"dataframe\">\n",
       "  <thead>\n",
       "    <tr style=\"text-align: right;\">\n",
       "      <th></th>\n",
       "      <th>병원</th>\n",
       "    </tr>\n",
       "    <tr>\n",
       "      <th>행정동</th>\n",
       "      <th></th>\n",
       "    </tr>\n",
       "  </thead>\n",
       "  <tbody>\n",
       "    <tr>\n",
       "      <th>상계6.7동</th>\n",
       "      <td>90</td>\n",
       "    </tr>\n",
       "    <tr>\n",
       "      <th>중계2.3동</th>\n",
       "      <td>36</td>\n",
       "    </tr>\n",
       "    <tr>\n",
       "      <th>공릉1동</th>\n",
       "      <td>36</td>\n",
       "    </tr>\n",
       "    <tr>\n",
       "      <th>상계2동</th>\n",
       "      <td>32</td>\n",
       "    </tr>\n",
       "    <tr>\n",
       "      <th>상계1동</th>\n",
       "      <td>24</td>\n",
       "    </tr>\n",
       "    <tr>\n",
       "      <th>월계3동</th>\n",
       "      <td>24</td>\n",
       "    </tr>\n",
       "    <tr>\n",
       "      <th>월계1동</th>\n",
       "      <td>24</td>\n",
       "    </tr>\n",
       "    <tr>\n",
       "      <th>중계4동</th>\n",
       "      <td>21</td>\n",
       "    </tr>\n",
       "    <tr>\n",
       "      <th>상계8동</th>\n",
       "      <td>21</td>\n",
       "    </tr>\n",
       "    <tr>\n",
       "      <th>중계본동</th>\n",
       "      <td>21</td>\n",
       "    </tr>\n",
       "    <tr>\n",
       "      <th>공릉2동</th>\n",
       "      <td>16</td>\n",
       "    </tr>\n",
       "    <tr>\n",
       "      <th>중계1동</th>\n",
       "      <td>15</td>\n",
       "    </tr>\n",
       "    <tr>\n",
       "      <th>월계2동</th>\n",
       "      <td>14</td>\n",
       "    </tr>\n",
       "    <tr>\n",
       "      <th>상계3.4동</th>\n",
       "      <td>14</td>\n",
       "    </tr>\n",
       "    <tr>\n",
       "      <th>상계9동</th>\n",
       "      <td>13</td>\n",
       "    </tr>\n",
       "    <tr>\n",
       "      <th>하계1동</th>\n",
       "      <td>13</td>\n",
       "    </tr>\n",
       "    <tr>\n",
       "      <th>하계2동</th>\n",
       "      <td>9</td>\n",
       "    </tr>\n",
       "    <tr>\n",
       "      <th>상계5동</th>\n",
       "      <td>9</td>\n",
       "    </tr>\n",
       "    <tr>\n",
       "      <th>상계10동</th>\n",
       "      <td>5</td>\n",
       "    </tr>\n",
       "  </tbody>\n",
       "</table>\n",
       "</div>"
      ],
      "text/plain": [
       "        병원\n",
       "행정동       \n",
       "상계6.7동  90\n",
       "중계2.3동  36\n",
       "공릉1동    36\n",
       "상계2동    32\n",
       "상계1동    24\n",
       "월계3동    24\n",
       "월계1동    24\n",
       "중계4동    21\n",
       "상계8동    21\n",
       "중계본동    21\n",
       "공릉2동    16\n",
       "중계1동    15\n",
       "월계2동    14\n",
       "상계3.4동  14\n",
       "상계9동    13\n",
       "하계1동    13\n",
       "하계2동     9\n",
       "상계5동     9\n",
       "상계10동    5"
      ]
     },
     "execution_count": 18,
     "metadata": {},
     "output_type": "execute_result"
    }
   ],
   "source": [
    "# 최종\n",
    "df = pd.read_csv(\"./data/hospital_ana.csv\", low_memory=False)\n",
    "df.set_index(\"행정동\", inplace=True)\n",
    "df"
   ]
  },
  {
   "cell_type": "code",
   "execution_count": 19,
   "id": "487597e7",
   "metadata": {},
   "outputs": [
    {
     "data": {
      "text/plain": [
       "<AxesSubplot:ylabel='행정동'>"
      ]
     },
     "execution_count": 19,
     "metadata": {},
     "output_type": "execute_result"
    },
    {
     "data": {
      "image/png": "[encoded data removed]",
      "text/plain": [
       "<Figure size 432x288 with 1 Axes>"
      ]
     },
     "metadata": {
      "image/png": {
       "height": 249,
       "width": 413
      },
      "needs_background": "light"
     },
     "output_type": "display_data"
    }
   ],
   "source": [
    "# 시각화\n",
    "df.plot.barh()"
   ]
  },
  {
   "cell_type": "code",
   "execution_count": null,
   "id": "961e4b74",
   "metadata": {},
   "outputs": [],
   "source": []
  },
  {
   "cell_type": "code",
   "execution_count": null,
   "id": "305c6451",
   "metadata": {},
   "outputs": [],
   "source": []
  },
  {
   "cell_type": "code",
   "execution_count": null,
   "id": "9ed892b8",
   "metadata": {},
   "outputs": [],
   "source": []
  }
 ],
 "metadata": {
  "kernelspec": {
   "display_name": "Python 3",
   "language": "python",
   "name": "python3"
  },
  "language_info": {
   "codemirror_mode": {
    "name": "ipython",
    "version": 3
   },
   "file_extension": ".py",
   "mimetype": "text/x-python",
   "name": "python",
   "nbconvert_exporter": "python",
   "pygments_lexer": "ipython3",
   "version": "3.8.8"
  }
 },
 "nbformat": 4,
 "nbformat_minor": 5
}
