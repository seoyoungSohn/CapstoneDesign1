{
 "cells": [
  {
   "cell_type": "code",
   "execution_count": 1,
   "id": "c5ee441c",
   "metadata": {},
   "outputs": [],
   "source": [
    "import pandas as pd\n",
    "import numpy as np\n",
    "import seaborn as sns"
   ]
  },
  {
   "cell_type": "code",
   "execution_count": 2,
   "id": "8629d0e6",
   "metadata": {},
   "outputs": [],
   "source": [
    "import matplotlib.pyplot as plt\n",
    "plt.rc('axes', unicode_minus=False)\n",
    "plt.rc('font', family='Malgun Gothic')\n",
    "%matplotlib inline"
   ]
  },
  {
   "cell_type": "code",
   "execution_count": 3,
   "id": "51063c71",
   "metadata": {},
   "outputs": [],
   "source": [
    "from IPython.display import set_matplotlib_formats\n",
    "# 폰트가 선명하게 보이기 위해\n",
    "set_matplotlib_formats('retina')"
   ]
  },
  {
   "cell_type": "code",
   "execution_count": 4,
   "id": "bc82a810",
   "metadata": {},
   "outputs": [],
   "source": [
    "df = pd.read_csv(\"./상가(상권)정보_의료기관_201909.csv\", low_memory=False)"
   ]
  },
  {
   "cell_type": "code",
   "execution_count": 5,
   "id": "04efc601",
   "metadata": {},
   "outputs": [],
   "source": [
    "df_nowon = df[df[\"시군구명\"] == \"노원구\"].copy()\n",
    "# df_nowon.head(1)"
   ]
  },
  {
   "cell_type": "code",
   "execution_count": 6,
   "id": "e2648dcf",
   "metadata": {},
   "outputs": [],
   "source": [
    "df_medical = df_nowon[df_nowon[\"상권업종중분류명\"] == \"병원\"]\n",
    "# df_medical.head(1)"
   ]
  },
  {
   "cell_type": "code",
   "execution_count": 7,
   "id": "ef8c1d54",
   "metadata": {},
   "outputs": [
    {
     "data": {
      "text/plain": [
       "상계6.7동    80\n",
       "중계2.3동    32\n",
       "공릉1동      32\n",
       "상계2동      29\n",
       "상계1동      23\n",
       "월계3동      23\n",
       "월계1동      23\n",
       "중계4동      20\n",
       "상계8동      17\n",
       "중계본동      17\n",
       "공릉2동      15\n",
       "상계9동      13\n",
       "중계1동      13\n",
       "하계1동      13\n",
       "월계2동      12\n",
       "상계3.4동    11\n",
       "하계2동      10\n",
       "상계5동       7\n",
       "상계10동      5\n",
       "Name: 행정동명, dtype: int64"
      ]
     },
     "execution_count": 7,
     "metadata": {},
     "output_type": "execute_result"
    }
   ],
   "source": [
    "df_medical[\"상권업종소분류명\"].value_counts()\n",
    "\n",
    "df_medical = df_medical[df_medical[\"상권업종소분류명\"] != \"소아과\"]\n",
    "df_medical = df_medical[df_medical[\"상권업종소분류명\"] != \"산부인과\"]\n",
    "df_medical = df_medical[df_medical[\"상권업종소분류명\"] != \"피부과\"]\n",
    "df_medical = df_medical[df_medical[\"상권업종소분류명\"] != \"정형/성형외과\"]\n",
    "df_medical = df_medical[df_medical[\"상권업종소분류명\"] != \"기타병원\"]\n",
    "\n",
    "\n",
    "\n",
    "df_medical[\"상권업종소분류명\"].value_counts()\n",
    "df_medical[\"행정동명\"].value_counts()"
   ]
  },
  {
   "cell_type": "code",
   "execution_count": 8,
   "id": "6caf7cdb",
   "metadata": {},
   "outputs": [],
   "source": [
    "df_some = df_nowon[df_nowon[\"상권업종중분류명\"] == \"병원\"]\n",
    "\n",
    "df_beauty = df_some[df_some[\"상권업종소분류명\"] == \"정형/성형외과\"]\n",
    "df_etc = df_some[df_some[\"상권업종소분류명\"] == \"기타병원\"]"
   ]
  },
  {
   "cell_type": "code",
   "execution_count": 9,
   "id": "8a4b40b9",
   "metadata": {},
   "outputs": [
    {
     "data": {
      "text/plain": [
       "중계1동      2\n",
       "중계본동      2\n",
       "상계6.7동    2\n",
       "상계1동      1\n",
       "공릉1동      1\n",
       "중계4동      1\n",
       "상계2동      1\n",
       "중계2.3동    1\n",
       "Name: 행정동명, dtype: int64"
      ]
     },
     "execution_count": 9,
     "metadata": {},
     "output_type": "execute_result"
    }
   ],
   "source": [
    "# 성형외과\n",
    "df_beauty[\"상호명\"].value_counts()\n",
    "beauty = df_beauty.drop(df_beauty.index[[0, 7, 8, 9, 13, 14]])\n",
    "beauty[\"행정동명\"].value_counts()\n",
    "# beauty[\"상호명\"].value_counts()"
   ]
  },
  {
   "cell_type": "code",
   "execution_count": 14,
   "id": "a4e91921",
   "metadata": {},
   "outputs": [
    {
     "data": {
      "text/plain": [
       "상계6.7동    8\n",
       "상계8동      4\n",
       "중계2.3동    3\n",
       "공릉1동      3\n",
       "상계3.4동    3\n",
       "월계2동      2\n",
       "중계본동      2\n",
       "상계5동      2\n",
       "상계2동      2\n",
       "월계3동      1\n",
       "월계1동      1\n",
       "중계1동      1\n",
       "Name: 행정동명, dtype: int64"
      ]
     },
     "execution_count": 14,
     "metadata": {},
     "output_type": "execute_result"
    }
   ],
   "source": [
    "# 기타병원\n",
    "df_etc[\"상호명\"].value_counts()\n",
    "etc = df_etc.drop(df_etc.index[[3, 4, 9, 11, 15, 16, 18, 21, 31, 38, 40, 41, 44]])\n",
    "etc[\"행정동명\"].value_counts()\n",
    "\n",
    "# etc[\"상호명\"].value_counts()"
   ]
  },
  {
   "cell_type": "code",
   "execution_count": null,
   "id": "7764cbe0",
   "metadata": {},
   "outputs": [],
   "source": []
  }
 ],
 "metadata": {
  "kernelspec": {
   "display_name": "Python 3",
   "language": "python",
   "name": "python3"
  },
  "language_info": {
   "codemirror_mode": {
    "name": "ipython",
    "version": 3
   },
   "file_extension": ".py",
   "mimetype": "text/x-python",
   "name": "python",
   "nbconvert_exporter": "python",
   "pygments_lexer": "ipython3",
   "version": "3.8.8"
  }
 },
 "nbformat": 4,
 "nbformat_minor": 5
}
