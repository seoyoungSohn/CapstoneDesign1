{
 "cells": [
  {
   "cell_type": "code",
   "execution_count": 1,
   "id": "71ea9adb",
   "metadata": {},
   "outputs": [],
   "source": [
    "import pandas as pd\n",
    "import numpy as np\n",
    "import seaborn as sns"
   ]
  },
  {
   "cell_type": "code",
   "execution_count": 3,
   "id": "2f6e0a7c",
   "metadata": {},
   "outputs": [],
   "source": [
    "import matplotlib.pyplot as plt\n",
    "plt.rc('axes', unicode_minus=False)\n",
    "plt.rc('font', family='Malgun Gothic')\n",
    "%matplotlib inline"
   ]
  },
  {
   "cell_type": "code",
   "execution_count": 4,
   "id": "9eca7219",
   "metadata": {},
   "outputs": [],
   "source": [
    "from IPython.display import set_matplotlib_formats\n",
    "# 폰트가 선명하게 보이기 위해\n",
    "set_matplotlib_formats('retina')"
   ]
  },
  {
   "cell_type": "code",
   "execution_count": 5,
   "id": "06df48a4",
   "metadata": {},
   "outputs": [],
   "source": [
    "df = pd.read_csv(\"./상가(상권)정보_의료기관_201909.csv\", low_memory=False)"
   ]
  },
  {
   "cell_type": "code",
   "execution_count": 7,
   "id": "e8a7f23b",
   "metadata": {},
   "outputs": [],
   "source": [
    "df_nowon = df[df[\"시군구명\"] == \"노원구\"].copy()\n",
    "# df_nowon.head(1)"
   ]
  },
  {
   "cell_type": "code",
   "execution_count": 9,
   "id": "ada755f5",
   "metadata": {},
   "outputs": [],
   "source": [
    "df_medical = df_nowon[df_nowon[\"상권업종중분류명\"] == \"병원\"]\n",
    "# df_medical.head(1)"
   ]
  },
  {
   "cell_type": "code",
   "execution_count": 67,
   "id": "b8eaab18",
   "metadata": {},
   "outputs": [
    {
     "data": {
      "text/plain": [
       "상계6.7동    102\n",
       "중계2.3동     36\n",
       "공릉1동       36\n",
       "상계2동       34\n",
       "상계1동       24\n",
       "월계3동       24\n",
       "월계1동       24\n",
       "중계본동       22\n",
       "중계4동       22\n",
       "상계8동       21\n",
       "중계1동       16\n",
       "공릉2동       15\n",
       "상계3.4동     15\n",
       "상계9동       14\n",
       "월계2동       14\n",
       "하계1동       13\n",
       "상계5동       10\n",
       "하계2동       10\n",
       "상계10동       5\n",
       "Name: 행정동명, dtype: int64"
      ]
     },
     "execution_count": 67,
     "metadata": {},
     "output_type": "execute_result"
    }
   ],
   "source": [
    "df_medical[\"상권업종소분류명\"].value_counts()\n",
    "\n",
    "df_medical = df_medical[df_medical[\"상권업종소분류명\"] != \"소아과\"]\n",
    "df_medical = df_medical[df_medical[\"상권업종소분류명\"] != \"산부인과\"]\n",
    "df_medical = df_medical[df_medical[\"상권업종소분류명\"] != \"피부과\"]\n",
    "df_medical[\"상권업종소분류명\"].value_counts()\n",
    "df_medical[\"행정동명\"].value_counts()"
   ]
  },
  {
   "cell_type": "code",
   "execution_count": 47,
   "id": "219c942f",
   "metadata": {},
   "outputs": [],
   "source": [
    "# 성형외과\n",
    "beauty_p = df_medical[df_medical[\"상권업종소분류명\"] == \"정형/성형외과\"]\n",
    "beauty_p[\"상호명\"].value_counts()\n",
    "beauty = beauty_p.drop(beauty_p.index[[0, 7, 8, 9, 13, 14]])\n",
    "beauty[\"행정동\"]\n",
    "# beauty[\"상호명\"].value_counts()"
   ]
  },
  {
   "cell_type": "code",
   "execution_count": 48,
   "id": "e8a4ebfd",
   "metadata": {},
   "outputs": [],
   "source": [
    "# 기타병원\n",
    "etc_p = df_medical[df_medical[\"상권업종소분류명\"] == \"기타병원\"]\n",
    "etc_p[\"상호명\"].value_counts()\n",
    "etc = etc_p.drop(etc_p.index[[3, 4, 9, 11, 15, 16, 18, 21, 31, 38, 40, 41, 44]])\n",
    "# etc[\"상호명\"].value_counts()"
   ]
  },
  {
   "cell_type": "code",
   "execution_count": null,
   "id": "fb787351",
   "metadata": {},
   "outputs": [],
   "source": []
  }
 ],
 "metadata": {
  "kernelspec": {
   "display_name": "Python 3",
   "language": "python",
   "name": "python3"
  },
  "language_info": {
   "codemirror_mode": {
    "name": "ipython",
    "version": 3
   },
   "file_extension": ".py",
   "mimetype": "text/x-python",
   "name": "python",
   "nbconvert_exporter": "python",
   "pygments_lexer": "ipython3",
   "version": "3.8.8"
  }
 },
 "nbformat": 4,
 "nbformat_minor": 5
}
